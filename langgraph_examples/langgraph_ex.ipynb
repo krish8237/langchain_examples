{
 "cells": [
  {
   "metadata": {},
   "cell_type": "markdown",
   "source": [
    "#### Import the required basic components to setup a Graph\n",
    "- **START** : This is the starting point of Graph\n",
    "- **END** : This is the ending point of Graph\n",
    "- **StateGraph** : The nodes and edges were added using this to build a Graph."
   ],
   "id": "fa1b94e9fdbffbb3"
  },
  {
   "cell_type": "code",
   "id": "initial_id",
   "metadata": {
    "collapsed": true,
    "ExecuteTime": {
     "end_time": "2025-06-29T21:57:32.951260Z",
     "start_time": "2025-06-29T21:57:31.819094Z"
    }
   },
   "source": "from langgraph.graph import StateGraph, START, END",
   "outputs": [],
   "execution_count": 1
  },
  {
   "metadata": {},
   "cell_type": "markdown",
   "source": [
    "#### State\n",
    "\n",
    "- This is the first thing to define while creating a Graph.\n",
    "- State schema serves as an Input schema for all the Nodes and Edges in the Graph."
   ],
   "id": "e0a021a347e4c329"
  },
  {
   "metadata": {
    "ExecuteTime": {
     "end_time": "2025-06-29T21:57:32.957338Z",
     "start_time": "2025-06-29T21:57:32.952678Z"
    }
   },
   "cell_type": "code",
   "source": [
    "from typing import TypedDict\n",
    "\n",
    "class State(TypedDict):\n",
    "    g_state : str\n",
    "    age : int"
   ],
   "id": "97e760c3058f3768",
   "outputs": [],
   "execution_count": 2
  },
  {
   "metadata": {},
   "cell_type": "markdown",
   "source": [
    "#### Nodes\n",
    "\n",
    "- **Nodes** are the python functions and they are operated on the State.\n",
    "- By default, each node will override the previous state value"
   ],
   "id": "21b45bd0e050564c"
  },
  {
   "metadata": {
    "ExecuteTime": {
     "end_time": "2025-06-29T21:57:32.964857Z",
     "start_time": "2025-06-29T21:57:32.959530Z"
    }
   },
   "cell_type": "code",
   "source": [
    "def node1(state: State):\n",
    "    state[\"g_state\"] = f\"Hello {state['g_state']}\"\n",
    "    return state"
   ],
   "id": "fd03ce44f4261ca5",
   "outputs": [],
   "execution_count": 3
  },
  {
   "metadata": {
    "ExecuteTime": {
     "end_time": "2025-06-29T21:57:32.972424Z",
     "start_time": "2025-06-29T21:57:32.967933Z"
    }
   },
   "cell_type": "code",
   "source": [
    "def node2(state: State):\n",
    "    state[\"g_state\"] = f\"{state['g_state']}. Redirecting to fill the Voting Application !\"\n",
    "    return state"
   ],
   "id": "2c73552277791baf",
   "outputs": [],
   "execution_count": 4
  },
  {
   "metadata": {
    "ExecuteTime": {
     "end_time": "2025-06-29T21:57:32.980477Z",
     "start_time": "2025-06-29T21:57:32.974188Z"
    }
   },
   "cell_type": "code",
   "source": [
    "def node3(state: State):\n",
    "    state[\"g_state\"] = f\"{state['g_state']}. You are not eligible for Voting !\"\n",
    "    return state"
   ],
   "id": "5231367ea9f5657e",
   "outputs": [],
   "execution_count": 5
  },
  {
   "metadata": {
    "ExecuteTime": {
     "end_time": "2025-06-29T21:57:32.987129Z",
     "start_time": "2025-06-29T21:57:32.982688Z"
    }
   },
   "cell_type": "code",
   "source": [
    "def node4(state: State):\n",
    "    state[\"g_state\"] = f\"{state['g_state']}. Age Limit Exceeded !\"\n",
    "    return state"
   ],
   "id": "e26518d44c9306f7",
   "outputs": [],
   "execution_count": 6
  },
  {
   "metadata": {},
   "cell_type": "markdown",
   "source": [
    "#### Edges\n",
    "Edges are of two types\n",
    "\n",
    "- **Normal** : These are connected to the other node without any connection\n",
    "- **Conditional Edge** : These are connected to the other nodes with a condition"
   ],
   "id": "a8b456a513c235f4"
  },
  {
   "metadata": {
    "ExecuteTime": {
     "end_time": "2025-06-29T21:57:32.996140Z",
     "start_time": "2025-06-29T21:57:32.989142Z"
    }
   },
   "cell_type": "code",
   "source": [
    "from typing import Literal\n",
    "\n",
    "def conditional_edge(state: State) -> Literal[\"node2\", \"node3\", \"node4\"]:\n",
    "    \n",
    "    age = state[\"age\"]\n",
    "    if(age in range(1, 18)):\n",
    "        return \"node3\"\n",
    "    elif(age in range(18, 121)):\n",
    "        return \"node2\"\n",
    "    else:\n",
    "        return \"node4\""
   ],
   "id": "ef31529b192de3f0",
   "outputs": [],
   "execution_count": 7
  },
  {
   "metadata": {
    "ExecuteTime": {
     "end_time": "2025-06-29T21:57:33.002647Z",
     "start_time": "2025-06-29T21:57:32.997670Z"
    }
   },
   "cell_type": "code",
   "source": "graph_builder = StateGraph(State)",
   "id": "3c78929900d5f633",
   "outputs": [],
   "execution_count": 8
  },
  {
   "metadata": {
    "ExecuteTime": {
     "end_time": "2025-06-29T21:57:33.016457Z",
     "start_time": "2025-06-29T21:57:33.005220Z"
    }
   },
   "cell_type": "code",
   "source": [
    "graph_builder.add_node(\"node1\", node1)\n",
    "graph_builder.add_node(\"node2\", node2)\n",
    "graph_builder.add_node(\"node3\", node3)\n",
    "graph_builder.add_node(\"node4\", node4)"
   ],
   "id": "287aac9871b9f36c",
   "outputs": [
    {
     "data": {
      "text/plain": [
       "<langgraph.graph.state.StateGraph at 0x211d5d4ca90>"
      ]
     },
     "execution_count": 9,
     "metadata": {},
     "output_type": "execute_result"
    }
   ],
   "execution_count": 9
  },
  {
   "metadata": {
    "ExecuteTime": {
     "end_time": "2025-06-29T21:57:33.024179Z",
     "start_time": "2025-06-29T21:57:33.018976Z"
    }
   },
   "cell_type": "code",
   "source": [
    "from IPython.display import Image, display\n",
    "\n",
    "def get_graph(graph: StateGraph):\n",
    "    voting_graph = graph.compile()\n",
    "    return voting_graph, Image(voting_graph.get_graph().draw_mermaid_png())"
   ],
   "id": "6c53cec5324f5ce1",
   "outputs": [],
   "execution_count": 10
  },
  {
   "metadata": {
    "ExecuteTime": {
     "end_time": "2025-06-29T21:57:33.034314Z",
     "start_time": "2025-06-29T21:57:33.026780Z"
    }
   },
   "cell_type": "code",
   "source": "graph_builder.add_edge(START, \"node1\")",
   "id": "79d88a986d955e06",
   "outputs": [
    {
     "data": {
      "text/plain": [
       "<langgraph.graph.state.StateGraph at 0x211d5d4ca90>"
      ]
     },
     "execution_count": 11,
     "metadata": {},
     "output_type": "execute_result"
    }
   ],
   "execution_count": 11
  },
  {
   "metadata": {
    "ExecuteTime": {
     "end_time": "2025-06-29T21:57:33.043148Z",
     "start_time": "2025-06-29T21:57:33.035678Z"
    }
   },
   "cell_type": "code",
   "source": "graph_builder.add_conditional_edges(\"node1\", conditional_edge)",
   "id": "38381fa2b9237f83",
   "outputs": [
    {
     "data": {
      "text/plain": [
       "<langgraph.graph.state.StateGraph at 0x211d5d4ca90>"
      ]
     },
     "execution_count": 12,
     "metadata": {},
     "output_type": "execute_result"
    }
   ],
   "execution_count": 12
  },
  {
   "metadata": {
    "ExecuteTime": {
     "end_time": "2025-06-29T21:57:33.052415Z",
     "start_time": "2025-06-29T21:57:33.045157Z"
    }
   },
   "cell_type": "code",
   "source": [
    "graph_builder.add_edge(\"node2\", END)\n",
    "graph_builder.add_edge(\"node3\", END)\n",
    "graph_builder.add_edge(\"node4\", END)"
   ],
   "id": "7165a25e430e3000",
   "outputs": [
    {
     "data": {
      "text/plain": [
       "<langgraph.graph.state.StateGraph at 0x211d5d4ca90>"
      ]
     },
     "execution_count": 13,
     "metadata": {},
     "output_type": "execute_result"
    }
   ],
   "execution_count": 13
  },
  {
   "metadata": {
    "ExecuteTime": {
     "end_time": "2025-06-29T21:57:37.023637Z",
     "start_time": "2025-06-29T21:57:33.053435Z"
    }
   },
   "cell_type": "code",
   "source": "voting_graph, img = get_graph(graph_builder)",
   "id": "c981121a20f44a9a",
   "outputs": [],
   "execution_count": 14
  },
  {
   "metadata": {
    "ExecuteTime": {
     "end_time": "2025-06-29T21:57:37.042489Z",
     "start_time": "2025-06-29T21:57:37.028774Z"
    }
   },
   "cell_type": "code",
   "source": "display(img)",
   "id": "fd102f441044b7c3",
   "outputs": [
    {
     "data": {
      "image/png": "[encoded data removed]",
      "text/plain": [
       "<IPython.core.display.Image object>"
      ]
     },
     "metadata": {},
     "output_type": "display_data"
    }
   ],
   "execution_count": 15
  },
  {
   "metadata": {
    "ExecuteTime": {
     "end_time": "2025-06-29T21:57:37.063188Z",
     "start_time": "2025-06-29T21:57:37.044115Z"
    }
   },
   "cell_type": "code",
   "source": "voting_graph.invoke({\"g_state\" : \"Vamsi\", \"age\" : 18})",
   "id": "cd7e9cd08beeaca",
   "outputs": [
    {
     "data": {
      "text/plain": [
       "{'g_state': 'Hello Vamsi. Redirecting to fill the Voting Application !',\n",
       " 'age': 18}"
      ]
     },
     "execution_count": 16,
     "metadata": {},
     "output_type": "execute_result"
    }
   ],
   "execution_count": 16
  },
  {
   "metadata": {
    "ExecuteTime": {
     "end_time": "2025-06-29T21:57:37.073055Z",
     "start_time": "2025-06-29T21:57:37.064195Z"
    }
   },
   "cell_type": "code",
   "source": "voting_graph.invoke({\"g_state\" : \"Krishna\", \"age\" : 17})",
   "id": "6a70330fe117f524",
   "outputs": [
    {
     "data": {
      "text/plain": [
       "{'g_state': 'Hello Krishna. You are not eligible for Voting !', 'age': 17}"
      ]
     },
     "execution_count": 17,
     "metadata": {},
     "output_type": "execute_result"
    }
   ],
   "execution_count": 17
  },
  {
   "metadata": {
    "ExecuteTime": {
     "end_time": "2025-06-29T21:57:37.084303Z",
     "start_time": "2025-06-29T21:57:37.075503Z"
    }
   },
   "cell_type": "code",
   "source": "voting_graph.invoke({\"g_state\" : \"Vamsi Krishna\", \"age\" : 200})",
   "id": "de7a33437452f334",
   "outputs": [
    {
     "data": {
      "text/plain": [
       "{'g_state': 'Hello Vamsi Krishna. Age Limit Exceeded !', 'age': 200}"
      ]
     },
     "execution_count": 18,
     "metadata": {},
     "output_type": "execute_result"
    }
   ],
   "execution_count": 18
  }
 ],
 "metadata": {
  "kernelspec": {
   "display_name": "Python 3",
   "language": "python",
   "name": "python3"
  },
  "language_info": {
   "codemirror_mode": {
    "name": "ipython",
    "version": 2
   },
   "file_extension": ".py",
   "mimetype": "text/x-python",
   "name": "python",
   "nbconvert_exporter": "python",
   "pygments_lexer": "ipython2",
   "version": "2.7.6"
  }
 },
 "nbformat": 4,
 "nbformat_minor": 5
}
