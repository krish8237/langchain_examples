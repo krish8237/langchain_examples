{
 "cells": [
  {
   "metadata": {
    "ExecuteTime": {
     "end_time": "2025-06-30T00:26:44.909822Z",
     "start_time": "2025-06-30T00:26:44.713413Z"
    }
   },
   "cell_type": "code",
   "source": "from langchain_core.messages import AIMessage, SystemMessage, HumanMessage",
   "id": "9fa602f8ebc6d138",
   "outputs": [],
   "execution_count": 1
  },
  {
   "metadata": {
    "ExecuteTime": {
     "end_time": "2025-06-30T00:26:44.917403Z",
     "start_time": "2025-06-30T00:26:44.912712Z"
    }
   },
   "cell_type": "code",
   "source": [
    "messages = [\n",
    "    SystemMessage('You are an intelligent math solver'),\n",
    "    HumanMessage('What is the value of 2 multiplied by 10 ?'),\n",
    "    AIMessage('The value of 2 * 10 = 20')\n",
    "]"
   ],
   "id": "50c84d4c988f938b",
   "outputs": [],
   "execution_count": 2
  },
  {
   "metadata": {
    "ExecuteTime": {
     "end_time": "2025-06-30T00:26:44.930466Z",
     "start_time": "2025-06-30T00:26:44.919613Z"
    }
   },
   "cell_type": "code",
   "source": "messages",
   "id": "89e6304273176566",
   "outputs": [
    {
     "data": {
      "text/plain": [
       "[SystemMessage(content='You are an intelligent math solver', additional_kwargs={}, response_metadata={}),\n",
       " HumanMessage(content='What is the value of 2 multiplied by 10 ?', additional_kwargs={}, response_metadata={}),\n",
       " AIMessage(content='The value of 2 * 10 = 20', additional_kwargs={}, response_metadata={})]"
      ]
     },
     "execution_count": 3,
     "metadata": {},
     "output_type": "execute_result"
    }
   ],
   "execution_count": 3
  },
  {
   "metadata": {
    "ExecuteTime": {
     "end_time": "2025-06-30T00:26:44.938336Z",
     "start_time": "2025-06-30T00:26:44.933589Z"
    }
   },
   "cell_type": "code",
   "source": [
    "for msg in messages:\n",
    "    msg.pretty_print()"
   ],
   "id": "8ba0b64eccb8455c",
   "outputs": [
    {
     "name": "stdout",
     "output_type": "stream",
     "text": [
      "================================\u001B[1m System Message \u001B[0m================================\n",
      "\n",
      "You are an intelligent math solver\n",
      "================================\u001B[1m Human Message \u001B[0m=================================\n",
      "\n",
      "What is the value of 2 multiplied by 10 ?\n",
      "==================================\u001B[1m Ai Message \u001B[0m==================================\n",
      "\n",
      "The value of 2 * 10 = 20\n"
     ]
    }
   ],
   "execution_count": 4
  },
  {
   "metadata": {
    "ExecuteTime": {
     "end_time": "2025-06-30T00:26:46.193432Z",
     "start_time": "2025-06-30T00:26:44.940410Z"
    }
   },
   "cell_type": "code",
   "source": "from langchain_google_genai.chat_models import ChatGoogleGenerativeAI",
   "id": "ab0cfc7d8c99a06b",
   "outputs": [],
   "execution_count": 5
  },
  {
   "metadata": {
    "ExecuteTime": {
     "end_time": "2025-06-30T00:26:46.201122Z",
     "start_time": "2025-06-30T00:26:46.195448Z"
    }
   },
   "cell_type": "code",
   "source": [
    "import os\n",
    "os.environ[\"GOOGLE_API_KEY\"] = \"<YOUR_API_KEY>\""
   ],
   "id": "784d368233d5081a",
   "outputs": [],
   "execution_count": 6
  },
  {
   "metadata": {
    "ExecuteTime": {
     "end_time": "2025-06-30T00:26:46.236446Z",
     "start_time": "2025-06-30T00:26:46.204435Z"
    }
   },
   "cell_type": "code",
   "source": "chat_model = ChatGoogleGenerativeAI(model=\"gemini-2.0-flash\")",
   "id": "5dbbff4d43927eb4",
   "outputs": [],
   "execution_count": 7
  },
  {
   "metadata": {
    "ExecuteTime": {
     "end_time": "2025-06-30T00:26:46.243216Z",
     "start_time": "2025-06-30T00:26:46.238043Z"
    }
   },
   "cell_type": "code",
   "source": "messages.append(HumanMessage('What is the value of 2 divided by 10 ?'))",
   "id": "1d38ecfa0537a3f0",
   "outputs": [],
   "execution_count": 8
  },
  {
   "metadata": {
    "ExecuteTime": {
     "end_time": "2025-06-30T00:26:47.503667Z",
     "start_time": "2025-06-30T00:26:46.246091Z"
    }
   },
   "cell_type": "code",
   "source": "chat_model.invoke(messages)",
   "id": "face0be911299e3e",
   "outputs": [
    {
     "data": {
      "text/plain": [
       "AIMessage(content='2 divided by 10 is 0.2.', additional_kwargs={}, response_metadata={'prompt_feedback': {'block_reason': 0, 'safety_ratings': []}, 'finish_reason': 'STOP', 'model_name': 'gemini-2.0-flash', 'safety_ratings': []}, id='run--e573dfae-811e-47a2-ba88-128208f88249-0', usage_metadata={'input_tokens': 45, 'output_tokens': 13, 'total_tokens': 58, 'input_token_details': {'cache_read': 0}})"
      ]
     },
     "execution_count": 9,
     "metadata": {},
     "output_type": "execute_result"
    }
   ],
   "execution_count": 9
  },
  {
   "metadata": {},
   "cell_type": "markdown",
   "source": "##### LangGraph",
   "id": "c58a32d9ac8b183a"
  },
  {
   "metadata": {
    "ExecuteTime": {
     "end_time": "2025-06-30T00:26:47.611824Z",
     "start_time": "2025-06-30T00:26:47.505679Z"
    }
   },
   "cell_type": "code",
   "source": [
    "from langgraph.graph import StateGraph, START, END\n",
    "from langchain_core.messages import AnyMessage"
   ],
   "id": "initial_id",
   "outputs": [],
   "execution_count": 10
  },
  {
   "metadata": {
    "ExecuteTime": {
     "end_time": "2025-06-30T00:26:47.618684Z",
     "start_time": "2025-06-30T00:26:47.613196Z"
    }
   },
   "cell_type": "code",
   "source": [
    "from typing import TypedDict, List, Annotated\n",
    "from langgraph.graph.message import add_messages\n",
    "\n",
    "class Message(TypedDict):\n",
    "    messages: Annotated[List[AnyMessage], add_messages]"
   ],
   "id": "282b5346134a4ddf",
   "outputs": [],
   "execution_count": 11
  },
  {
   "metadata": {
    "ExecuteTime": {
     "end_time": "2025-06-30T00:26:47.625773Z",
     "start_time": "2025-06-30T00:26:47.620182Z"
    }
   },
   "cell_type": "code",
   "source": [
    "def dot(a: int, b: int):\n",
    "    '''\n",
    "    Dot value of two numbers 'a' and 'b'\n",
    "    :param a: \n",
    "    :param b: \n",
    "    :return: \n",
    "    '''\n",
    "    return a * b"
   ],
   "id": "8e73c4331e505589",
   "outputs": [],
   "execution_count": 12
  },
  {
   "metadata": {
    "ExecuteTime": {
     "end_time": "2025-06-30T00:26:47.637115Z",
     "start_time": "2025-06-30T00:26:47.627788Z"
    }
   },
   "cell_type": "code",
   "source": "model_with_tools = chat_model.bind_tools([dot])",
   "id": "6d2b937558955fd5",
   "outputs": [],
   "execution_count": 13
  },
  {
   "metadata": {
    "ExecuteTime": {
     "end_time": "2025-06-30T00:26:47.645672Z",
     "start_time": "2025-06-30T00:26:47.640322Z"
    }
   },
   "cell_type": "code",
   "source": [
    "def tooled_llm(state : Message):\n",
    "    return {\"messages\" : [model_with_tools.invoke(state[\"messages\"])]}"
   ],
   "id": "cb1529db47feb854",
   "outputs": [],
   "execution_count": 14
  },
  {
   "metadata": {
    "ExecuteTime": {
     "end_time": "2025-06-30T00:26:47.653174Z",
     "start_time": "2025-06-30T00:26:47.647687Z"
    }
   },
   "cell_type": "code",
   "source": "graph = StateGraph(Message)",
   "id": "4d3ae3111b233416",
   "outputs": [],
   "execution_count": 15
  },
  {
   "metadata": {
    "ExecuteTime": {
     "end_time": "2025-06-30T00:26:47.660988Z",
     "start_time": "2025-06-30T00:26:47.655201Z"
    }
   },
   "cell_type": "code",
   "source": "graph.add_node(\"tooled_llm\", tooled_llm)",
   "id": "10ac7cec7cf65577",
   "outputs": [
    {
     "data": {
      "text/plain": [
       "<langgraph.graph.state.StateGraph at 0x2980a54c8d0>"
      ]
     },
     "execution_count": 16,
     "metadata": {},
     "output_type": "execute_result"
    }
   ],
   "execution_count": 16
  },
  {
   "metadata": {
    "ExecuteTime": {
     "end_time": "2025-06-30T00:26:47.669633Z",
     "start_time": "2025-06-30T00:26:47.662085Z"
    }
   },
   "cell_type": "code",
   "source": "graph.add_edge(START, \"tooled_llm\")",
   "id": "8b83b0b6e674222a",
   "outputs": [
    {
     "data": {
      "text/plain": [
       "<langgraph.graph.state.StateGraph at 0x2980a54c8d0>"
      ]
     },
     "execution_count": 17,
     "metadata": {},
     "output_type": "execute_result"
    }
   ],
   "execution_count": 17
  },
  {
   "metadata": {
    "ExecuteTime": {
     "end_time": "2025-06-30T00:26:47.677369Z",
     "start_time": "2025-06-30T00:26:47.671119Z"
    }
   },
   "cell_type": "code",
   "source": "graph.add_edge(\"tooled_llm\", END)",
   "id": "b47c05687e4bc703",
   "outputs": [
    {
     "data": {
      "text/plain": [
       "<langgraph.graph.state.StateGraph at 0x2980a54c8d0>"
      ]
     },
     "execution_count": 18,
     "metadata": {},
     "output_type": "execute_result"
    }
   ],
   "execution_count": 18
  },
  {
   "metadata": {
    "ExecuteTime": {
     "end_time": "2025-06-30T00:26:47.686320Z",
     "start_time": "2025-06-30T00:26:47.679375Z"
    }
   },
   "cell_type": "code",
   "source": "graph = graph.compile()",
   "id": "d7f01b9beb1315eb",
   "outputs": [],
   "execution_count": 19
  },
  {
   "metadata": {
    "ExecuteTime": {
     "end_time": "2025-06-30T00:26:48.198106Z",
     "start_time": "2025-06-30T00:26:47.687574Z"
    }
   },
   "cell_type": "code",
   "source": [
    "from IPython.display import Image, display\n",
    "\n",
    "display(Image(graph.get_graph().draw_mermaid_png()))"
   ],
   "id": "8f0d0d3081f5ed18",
   "outputs": [
    {
     "data": {
      "image/png": "[encoded data removed]",
      "text/plain": [
       "<IPython.core.display.Image object>"
      ]
     },
     "metadata": {},
     "output_type": "display_data"
    }
   ],
   "execution_count": 20
  },
  {
   "metadata": {
    "ExecuteTime": {
     "end_time": "2025-06-30T00:26:48.634631Z",
     "start_time": "2025-06-30T00:26:48.199115Z"
    }
   },
   "cell_type": "code",
   "source": "graph.invoke({\"messages\" : HumanMessage(\"Hello\")})",
   "id": "4be57e0e136dd256",
   "outputs": [
    {
     "data": {
      "text/plain": [
       "{'messages': [HumanMessage(content='Hello', additional_kwargs={}, response_metadata={}, id='6ec2a6e5-c356-49cd-b00c-4f2be74b1f28'),\n",
       "  AIMessage(content='Hello! How can I help you today?', additional_kwargs={}, response_metadata={'prompt_feedback': {'block_reason': 0, 'safety_ratings': []}, 'finish_reason': 'STOP', 'model_name': 'gemini-2.0-flash', 'safety_ratings': []}, id='run--2ae4fb05-d2ab-4c50-b486-0e0d63efcb7a-0', usage_metadata={'input_tokens': 38, 'output_tokens': 10, 'total_tokens': 48, 'input_token_details': {'cache_read': 0}})]}"
      ]
     },
     "execution_count": 21,
     "metadata": {},
     "output_type": "execute_result"
    }
   ],
   "execution_count": 21
  },
  {
   "metadata": {
    "ExecuteTime": {
     "end_time": "2025-06-30T00:26:49.244886Z",
     "start_time": "2025-06-30T00:26:48.635656Z"
    }
   },
   "cell_type": "code",
   "source": "graph.invoke({\"messages\" : HumanMessage(\"Value of 2 + 3 ?\")})",
   "id": "ec95f2f9d9e4fd22",
   "outputs": [
    {
     "data": {
      "text/plain": [
       "{'messages': [HumanMessage(content='Value of 2 + 3 ?', additional_kwargs={}, response_metadata={}, id='88cd0f81-13c9-4efd-ab88-10dc84bc6417'),\n",
       "  AIMessage(content=\"I'm designed to calculate the dot product of two numbers. Would you like to calculate the dot product of 2 and 3?\", additional_kwargs={}, response_metadata={'prompt_feedback': {'block_reason': 0, 'safety_ratings': []}, 'finish_reason': 'STOP', 'model_name': 'gemini-2.0-flash', 'safety_ratings': []}, id='run--31c814c5-caf6-4720-9dae-236a96826997-0', usage_metadata={'input_tokens': 45, 'output_tokens': 29, 'total_tokens': 74, 'input_token_details': {'cache_read': 0}})]}"
      ]
     },
     "execution_count": 22,
     "metadata": {},
     "output_type": "execute_result"
    }
   ],
   "execution_count": 22
  },
  {
   "metadata": {
    "ExecuteTime": {
     "end_time": "2025-06-30T00:26:49.677544Z",
     "start_time": "2025-06-30T00:26:49.249381Z"
    }
   },
   "cell_type": "code",
   "source": "graph.invoke({\"messages\" : HumanMessage(\"Value of 2 dot 3 ?\")})",
   "id": "54766a59b63444db",
   "outputs": [
    {
     "data": {
      "text/plain": [
       "{'messages': [HumanMessage(content='Value of 2 dot 3 ?', additional_kwargs={}, response_metadata={}, id='d1be1bac-0f52-4f59-bc59-4fba0ac65cce'),\n",
       "  AIMessage(content='', additional_kwargs={'function_call': {'name': 'dot', 'arguments': '{\"b\": 3.0, \"a\": 2.0}'}}, response_metadata={'prompt_feedback': {'block_reason': 0, 'safety_ratings': []}, 'finish_reason': 'STOP', 'model_name': 'gemini-2.0-flash', 'safety_ratings': []}, id='run--4769726b-5ff2-4d54-840c-728f370cc98b-0', tool_calls=[{'name': 'dot', 'args': {'b': 3.0, 'a': 2.0}, 'id': '2015658d-aa9a-4979-a42d-56277def1ed1', 'type': 'tool_call'}], usage_metadata={'input_tokens': 45, 'output_tokens': 5, 'total_tokens': 50, 'input_token_details': {'cache_read': 0}})]}"
      ]
     },
     "execution_count": 23,
     "metadata": {},
     "output_type": "execute_result"
    }
   ],
   "execution_count": 23
  }
 ],
 "metadata": {
  "kernelspec": {
   "display_name": "Python 3",
   "language": "python",
   "name": "python3"
  },
  "language_info": {
   "codemirror_mode": {
    "name": "ipython",
    "version": 2
   },
   "file_extension": ".py",
   "mimetype": "text/x-python",
   "name": "python",
   "nbconvert_exporter": "python",
   "pygments_lexer": "ipython2",
   "version": "2.7.6"
  }
 },
 "nbformat": 4,
 "nbformat_minor": 5
}
